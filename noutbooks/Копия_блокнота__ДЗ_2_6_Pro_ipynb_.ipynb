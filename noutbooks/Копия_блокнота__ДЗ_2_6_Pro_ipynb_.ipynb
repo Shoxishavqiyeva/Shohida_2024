{
  "cells": [
    {
      "cell_type": "markdown",
      "metadata": {
        "id": "MH-3kVwvJYeP"
      },
      "source": [
        "# 2.6 Модули"
      ]
    },
    {
      "cell_type": "markdown",
      "metadata": {
        "id": "Ul9jm4IVKflm"
      },
      "source": [
        "## Задание 1"
      ]
    },
    {
      "cell_type": "markdown",
      "metadata": {
        "id": "MHcCRybmPN2l"
      },
      "source": [
        "**Условие:**\n",
        "Посчитать значение $\\cos^2(\\pi^{25})$ и $\\sin^2(\\pi^{25})$, используя указанные функции из библиотеки ```math```, применив для этого **каждую** из конструкций импорта:\n",
        "```python\n",
        "# 1. Импорт модуля или модулей целиком\n",
        "import имя_модуля\n",
        "import имя_модуля1, имя_модуля2\n",
        "\n",
        "# 2. Импорт модуля с присвоением псевдонима модулю\n",
        "import имя_модуля as новое_имя\n",
        "\n",
        "# 3. Импорт конкретного объекта из модуля\n",
        "from имя_модуля import имя_объекта\n",
        "from имя_модуля import имя_объекта1, имя_объекта2\n",
        "\n",
        "# 4. Импорт конкретного объекта из модуля с присвоением псевдонима объекту\n",
        "from имя_модуля import имя_объекта as псевдоним_объекта\n",
        "\n",
        "# 5. Импорт всех объектов из модуля\n",
        "from имя_модуля import *\n",
        "```\n",
        "Найдите произведение $\\cos^2(\\pi^{25})*\\sin^2(\\pi^{25})$.\n",
        "\n",
        "**Формат ответа:** Число с плавающей запятой, округленное до десятых (например,```0.1```)\n"
      ]
    },
    {
      "cell_type": "markdown",
      "metadata": {
        "id": "KGKyYMeJPN2v"
      },
      "source": [
        "**Решение:**"
      ]
    },
    {
      "cell_type": "code",
      "execution_count": null,
      "metadata": {
        "colab": {
          "base_uri": "https://localhost:8080/"
        },
        "id": "JXulcWCxPN26",
        "outputId": "ccfd4b28-39af-4fb8-a946-8a1614962bea"
      },
      "outputs": [
        {
          "output_type": "stream",
          "name": "stdout",
          "text": [
            "0.1060334678362933\n"
          ]
        }
      ],
      "source": [
        "import math\n",
        "\n",
        "result_cos = math.cos(math.pi ** 25)\n",
        "result_sin = math.sin(math.pi ** 25)\n",
        "result = result_cos ** 2 * result_sin ** 2\n",
        "print(result)"
      ]
    },
    {
      "cell_type": "markdown",
      "metadata": {
        "id": "zWLADp8od4Fb"
      },
      "source": [
        "## Задание 2"
      ]
    },
    {
      "cell_type": "markdown",
      "metadata": {
        "id": "UoOi1BsVd4Fk"
      },
      "source": [
        "**Условие:**\n",
        "Напишите свой модуль ```my_math.py```, в котором реализованы функции умножения и сложения чисел. Загрузите файл в Google colab. Подключите данный модуль любым способом и найдите значение выражения: $(123+432)*21+452*9876$, используя только функции из вашего модуля.\n",
        "\n",
        "**Формат ответа:** Целое число\n"
      ]
    },
    {
      "cell_type": "markdown",
      "metadata": {
        "id": "lrstOHX0d4Fr"
      },
      "source": [
        "**Решение:**"
      ]
    },
    {
      "cell_type": "code",
      "execution_count": null,
      "metadata": {
        "id": "oyROkfqid4Fv"
      },
      "outputs": [],
      "source": [
        "# Загрузка файлов\n",
        "from google.colab import files\n",
        "files.upload()"
      ]
    },
    {
      "cell_type": "code",
      "execution_count": null,
      "metadata": {
        "id": "qYsCJKkVVnCn",
        "outputId": "630a8a09-a172-4b04-e0fd-e63c14374399",
        "colab": {
          "base_uri": "https://localhost:8080/",
          "height": 366
        }
      },
      "outputs": [
        {
          "output_type": "error",
          "ename": "ModuleNotFoundError",
          "evalue": "No module named 'my_math'",
          "traceback": [
            "\u001b[0;31m---------------------------------------------------------------------------\u001b[0m",
            "\u001b[0;31mModuleNotFoundError\u001b[0m                       Traceback (most recent call last)",
            "\u001b[0;32m<ipython-input-2-2e6de28ae4b3>\u001b[0m in \u001b[0;36m<cell line: 1>\u001b[0;34m()\u001b[0m\n\u001b[0;32m----> 1\u001b[0;31m \u001b[0;32mimport\u001b[0m \u001b[0mmy_math\u001b[0m\u001b[0;34m\u001b[0m\u001b[0;34m\u001b[0m\u001b[0m\n\u001b[0m\u001b[1;32m      2\u001b[0m \u001b[0mresult\u001b[0m \u001b[0;34m=\u001b[0m \u001b[0mmy_math\u001b[0m\u001b[0;34m.\u001b[0m\u001b[0madd\u001b[0m\u001b[0;34m(\u001b[0m\u001b[0mmy_math\u001b[0m\u001b[0;34m.\u001b[0m\u001b[0mmultiply\u001b[0m\u001b[0;34m(\u001b[0m\u001b[0mmy_math\u001b[0m\u001b[0;34m.\u001b[0m\u001b[0madd\u001b[0m\u001b[0;34m(\u001b[0m\u001b[0;36m123\u001b[0m\u001b[0;34m,\u001b[0m \u001b[0;36m432\u001b[0m\u001b[0;34m)\u001b[0m\u001b[0;34m,\u001b[0m \u001b[0;36m21\u001b[0m\u001b[0;34m)\u001b[0m\u001b[0;34m,\u001b[0m \u001b[0mmy_math\u001b[0m\u001b[0;34m.\u001b[0m\u001b[0mmultiply\u001b[0m\u001b[0;34m(\u001b[0m\u001b[0;36m452\u001b[0m\u001b[0;34m,\u001b[0m \u001b[0;36m9876\u001b[0m\u001b[0;34m)\u001b[0m\u001b[0;34m)\u001b[0m\u001b[0;34m\u001b[0m\u001b[0;34m\u001b[0m\u001b[0m\n\u001b[1;32m      3\u001b[0m \u001b[0;34m\u001b[0m\u001b[0m\n\u001b[1;32m      4\u001b[0m \u001b[0mprint\u001b[0m\u001b[0;34m(\u001b[0m\u001b[0;34mf'Результат выражения: {result}'\u001b[0m\u001b[0;34m)\u001b[0m\u001b[0;34m\u001b[0m\u001b[0;34m\u001b[0m\u001b[0m\n",
            "\u001b[0;31mModuleNotFoundError\u001b[0m: No module named 'my_math'",
            "",
            "\u001b[0;31m---------------------------------------------------------------------------\u001b[0;32m\nNOTE: If your import is failing due to a missing package, you can\nmanually install dependencies using either !pip or !apt.\n\nTo view examples of installing some common dependencies, click the\n\"Open Examples\" button below.\n\u001b[0;31m---------------------------------------------------------------------------\u001b[0m\n"
          ],
          "errorDetails": {
            "actions": [
              {
                "action": "open_url",
                "actionText": "Open Examples",
                "url": "/notebooks/snippets/importing_libraries.ipynb"
              }
            ]
          }
        }
      ],
      "source": [
        "import my_math\n",
        "result = my_math.add(my_math.multiply(my_math.add(123, 432), 21), my_math.multiply(452, 9876))\n",
        "\n",
        "print(f'Результат выражения: {result}')"
      ]
    }
  ],
  "metadata": {
    "colab": {
      "provenance": []
    },
    "kernelspec": {
      "display_name": "Python 3 (ipykernel)",
      "language": "python",
      "name": "python3"
    },
    "language_info": {
      "codemirror_mode": {
        "name": "ipython",
        "version": 3
      },
      "file_extension": ".py",
      "mimetype": "text/x-python",
      "name": "python",
      "nbconvert_exporter": "python",
      "pygments_lexer": "ipython3",
      "version": "3.11.7"
    }
  },
  "nbformat": 4,
  "nbformat_minor": 0
}